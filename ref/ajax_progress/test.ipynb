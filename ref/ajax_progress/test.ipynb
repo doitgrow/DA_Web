{
 "cells": [
  {
   "cell_type": "code",
   "execution_count": 1,
   "metadata": {},
   "outputs": [],
   "source": [
    "import pandas as pd"
   ]
  },
  {
   "cell_type": "code",
   "execution_count": 3,
   "metadata": {},
   "outputs": [],
   "source": [
    "db = pd.read_excel('db.xlsx')"
   ]
  },
  {
   "cell_type": "code",
   "execution_count": 4,
   "metadata": {},
   "outputs": [],
   "source": [
    "js = db.to_json(orient='columns')"
   ]
  },
  {
   "cell_type": "code",
   "execution_count": 5,
   "metadata": {},
   "outputs": [
    {
     "data": {
      "text/plain": [
       "'{\"id\":{\"0\":1,\"1\":2,\"2\":3,\"3\":4},\"\\\\uc774\\\\ub984\":{\"0\":\"\\\\uae40\\\\uc218\\\\uc131\",\"1\":\"\\\\ucc44\\\\uc2b9\\\\uc5fd\",\"2\":\"\\\\uae40\\\\ubbfc\\\\uc8fc\",\"3\":\"\\\\uc548\\\\uc7ac\\\\ud615\"},\"\\\\ub098\\\\uc774\":{\"0\":35,\"1\":34,\"2\":33,\"3\":32}}'"
      ]
     },
     "execution_count": 5,
     "metadata": {},
     "output_type": "execute_result"
    }
   ],
   "source": [
    "js"
   ]
  },
  {
   "cell_type": "code",
   "execution_count": null,
   "metadata": {},
   "outputs": [],
   "source": []
  }
 ],
 "metadata": {
  "interpreter": {
   "hash": "c2869bc9dfad8ae5c45401432870b0bef10f82749da4ffb4333f05c3423d4e31"
  },
  "kernelspec": {
   "display_name": "Python 3.8.8 64-bit ('venv': venv)",
   "language": "python",
   "name": "python3"
  },
  "language_info": {
   "codemirror_mode": {
    "name": "ipython",
    "version": 3
   },
   "file_extension": ".py",
   "mimetype": "text/x-python",
   "name": "python",
   "nbconvert_exporter": "python",
   "pygments_lexer": "ipython3",
   "version": "3.8.8"
  },
  "orig_nbformat": 4
 },
 "nbformat": 4,
 "nbformat_minor": 2
}
