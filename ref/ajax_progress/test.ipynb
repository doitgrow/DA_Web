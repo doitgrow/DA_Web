{
 "cells": [
  {
   "cell_type": "code",
   "execution_count": 2,
   "metadata": {},
   "outputs": [],
   "source": [
    "import pandas as pd"
   ]
  },
  {
   "cell_type": "code",
   "execution_count": 3,
   "metadata": {},
   "outputs": [],
   "source": [
    "db = pd.read_excel('db.xlsx')"
   ]
  },
  {
   "cell_type": "code",
   "execution_count": 11,
   "metadata": {},
   "outputs": [
    {
     "data": {
      "text/plain": [
       "'{\"columns\":[\"id\",\"이름\",\"나이\"],\"index\":[0,1,2,3],\"data\":[[1,\"김수성\",35],[2,\"채승엽\",34],[3,\"김민주\",33],[4,\"안재형\",32]]}'"
      ]
     },
     "execution_count": 11,
     "metadata": {},
     "output_type": "execute_result"
    }
   ],
   "source": [
    "js = db.to_json(orient='split', force_ascii=False)\n",
    "js"
   ]
  },
  {
   "cell_type": "code",
   "execution_count": 5,
   "metadata": {},
   "outputs": [
    {
     "data": {
      "text/plain": [
       "'{\"id\":{\"0\":1,\"1\":2,\"2\":3,\"3\":4},\"\\\\uc774\\\\ub984\":{\"0\":\"\\\\uae40\\\\uc218\\\\uc131\",\"1\":\"\\\\ucc44\\\\uc2b9\\\\uc5fd\",\"2\":\"\\\\uae40\\\\ubbfc\\\\uc8fc\",\"3\":\"\\\\uc548\\\\uc7ac\\\\ud615\"},\"\\\\ub098\\\\uc774\":{\"0\":35,\"1\":34,\"2\":33,\"3\":32}}'"
      ]
     },
     "execution_count": 5,
     "metadata": {},
     "output_type": "execute_result"
    }
   ],
   "source": [
    "'split', 'records', 'index', 'table'}"
   ]
  },
  {
   "cell_type": "code",
   "execution_count": 14,
   "metadata": {},
   "outputs": [
    {
     "data": {
      "text/plain": [
       "'[{\"id\":1,\"이름\":\"김수성\",\"나이\":35},{\"id\":2,\"이름\":\"채승엽\",\"나이\":34},{\"id\":3,\"이름\":\"김민주\",\"나이\":33},{\"id\":4,\"이름\":\"안재형\",\"나이\":32}]'"
      ]
     },
     "execution_count": 14,
     "metadata": {},
     "output_type": "execute_result"
    }
   ],
   "source": [
    "db.to_json(orient='records', force_ascii=False)"
   ]
  },
  {
   "cell_type": "code",
   "execution_count": 16,
   "metadata": {},
   "outputs": [
    {
     "data": {
      "text/plain": [
       "'{\"schema\":{\"fields\":[{\"name\":\"index\",\"type\":\"integer\"},{\"name\":\"id\",\"type\":\"integer\"},{\"name\":\"이름\",\"type\":\"string\"},{\"name\":\"나이\",\"type\":\"integer\"}],\"primaryKey\":[\"index\"],\"pandas_version\":\"0.20.0\"},\"data\":[{\"index\":0,\"id\":1,\"이름\":\"김수성\",\"나이\":35},{\"index\":1,\"id\":2,\"이름\":\"채승엽\",\"나이\":34},{\"index\":2,\"id\":3,\"이름\":\"김민주\",\"나이\":33},{\"index\":3,\"id\":4,\"이름\":\"안재형\",\"나이\":32}]}'"
      ]
     },
     "execution_count": 16,
     "metadata": {},
     "output_type": "execute_result"
    }
   ],
   "source": [
    "db.to_json(orient='table', force_ascii=False)"
   ]
  },
  {
   "cell_type": "code",
   "execution_count": null,
   "metadata": {},
   "outputs": [],
   "source": []
  }
 ],
 "metadata": {
  "interpreter": {
   "hash": "c2869bc9dfad8ae5c45401432870b0bef10f82749da4ffb4333f05c3423d4e31"
  },
  "kernelspec": {
   "display_name": "Python 3.8.8 64-bit ('venv': venv)",
   "language": "python",
   "name": "python3"
  },
  "language_info": {
   "codemirror_mode": {
    "name": "ipython",
    "version": 3
   },
   "file_extension": ".py",
   "mimetype": "text/x-python",
   "name": "python",
   "nbconvert_exporter": "python",
   "pygments_lexer": "ipython3",
   "version": "3.7.1"
  },
  "orig_nbformat": 4
 },
 "nbformat": 4,
 "nbformat_minor": 2
}
