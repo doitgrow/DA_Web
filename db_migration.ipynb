{
 "cells": [
  {
   "cell_type": "code",
   "execution_count": 8,
   "metadata": {},
   "outputs": [],
   "source": [
    "import sqlite3\n",
    "import pandas as pd\n",
    "from datetime import datetime"
   ]
  },
  {
   "cell_type": "code",
   "execution_count": 13,
   "metadata": {},
   "outputs": [],
   "source": [
    "data = pd.read_excel(\"db_migration.xlsx\")\n",
    "conn = sqlite3.connect(\"kwd_database.db\")\n",
    "\n",
    "cursor = conn.cursor()\n",
    "query = \"INSERT INTO keyword_dict VALUES (?, ?, ?, ?, ?, ?)\"\n",
    "for i in range(len(data)):\n",
    "    cursor.execute(query, (i+1, data.loc[i, '주제'], data.loc[i, 'LV1'], data.loc[i, 'LV2'], data.loc[i, '논문키워드'], datetime.now()))\n",
    "conn.commit()\n",
    "conn.close()"
   ]
  },
  {
   "cell_type": "code",
   "execution_count": 26,
   "metadata": {},
   "outputs": [],
   "source": [
    "def temp(a):\n",
    "    def wrap(func):\n",
    "        print(\"데코레이터 실행\")\n",
    "        print(a)\n",
    "        func(1, 1)\n",
    "    return wrap"
   ]
  },
  {
   "cell_type": "code",
   "execution_count": 27,
   "metadata": {},
   "outputs": [
    {
     "name": "stdout",
     "output_type": "stream",
     "text": [
      "데코레이터 실행\n",
      "1\n",
      "2\n"
     ]
    }
   ],
   "source": [
    "@temp(1)\n",
    "def plus(a, b):\n",
    "    print(a + b)"
   ]
  },
  {
   "cell_type": "code",
   "execution_count": 9,
   "metadata": {},
   "outputs": [
    {
     "name": "stdout",
     "output_type": "stream",
     "text": [
      "데코레이터 실행\n",
      "2\n"
     ]
    }
   ],
   "source": [
    "plus(1, 1)"
   ]
  },
  {
   "cell_type": "code",
   "execution_count": null,
   "metadata": {},
   "outputs": [],
   "source": []
  }
 ],
 "metadata": {
  "interpreter": {
   "hash": "c2869bc9dfad8ae5c45401432870b0bef10f82749da4ffb4333f05c3423d4e31"
  },
  "kernelspec": {
   "display_name": "Python 3.7.1 64-bit ('venv': venv)",
   "language": "python",
   "name": "python3"
  },
  "language_info": {
   "codemirror_mode": {
    "name": "ipython",
    "version": 3
   },
   "file_extension": ".py",
   "mimetype": "text/x-python",
   "name": "python",
   "nbconvert_exporter": "python",
   "pygments_lexer": "ipython3",
   "version": "3.8.8"
  },
  "orig_nbformat": 4
 },
 "nbformat": 4,
 "nbformat_minor": 2
}
